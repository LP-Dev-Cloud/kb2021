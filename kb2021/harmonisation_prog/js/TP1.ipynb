{
 "cells": [
  {
   "cell_type": "markdown",
   "source": [
    "# Bases syntaxiques de Javascript"
   ],
   "metadata": {}
  },
  {
   "cell_type": "code",
   "execution_count": 1,
   "source": [
    "console.log(\"Hello World!\");"
   ],
   "outputs": [
    {
     "output_type": "stream",
     "name": "stdout",
     "text": [
      "Hello World!\n"
     ]
    }
   ],
   "metadata": {}
  },
  {
   "cell_type": "code",
   "execution_count": 2,
   "source": [
    "console.log(process.version);"
   ],
   "outputs": [
    {
     "output_type": "stream",
     "name": "stdout",
     "text": [
      "v14.15.5\n"
     ]
    }
   ],
   "metadata": {}
  },
  {
   "cell_type": "code",
   "execution_count": 3,
   "source": [
    "var world = 'world';\n",
    "//  Utilisez une interpolation pour afficher le contenu de la variable world dans la String \"hello ___!\"\n",
    "\n",
    "console.log(`hello ${world}`);"
   ],
   "outputs": [
    {
     "output_type": "stream",
     "name": "stdout",
     "text": [
      "hello world\n"
     ]
    }
   ],
   "metadata": {}
  },
  {
   "cell_type": "markdown",
   "source": [
    "## Types"
   ],
   "metadata": {}
  },
  {
   "cell_type": "code",
   "execution_count": 4,
   "source": [
    "// Affichez les types (fonction typeof()) de : 8, \"test\", [], {}\n",
    "console.log(typeof(8));\n",
    "console.log(typeof(\"test\"));\n",
    "console.log(typeof([]));\n",
    "console.log(typeof({}));"
   ],
   "outputs": [
    {
     "output_type": "stream",
     "name": "stdout",
     "text": [
      "number\n",
      "string\n",
      "object\n",
      "object\n"
     ]
    }
   ],
   "metadata": {}
  },
  {
   "cell_type": "markdown",
   "source": [
    "## Variables"
   ],
   "metadata": {}
  },
  {
   "cell_type": "code",
   "execution_count": 5,
   "source": [
    "console.log(var_test)\n",
    "var var_test = 'X'\n",
    "console.log(var_test)\n",
    "// Que peut-on conclure ?\n",
    "\n",
    "// Avec un var nous pouvons accèder à la variable même lorsque celle-ci n'est pas déclarée."
   ],
   "outputs": [
    {
     "output_type": "stream",
     "name": "stdout",
     "text": [
      "undefined\n",
      "X\n"
     ]
    }
   ],
   "metadata": {}
  },
  {
   "cell_type": "code",
   "execution_count": 6,
   "source": [
    "// Faites la même chose en déclarant une variable avec let à la place de var\n",
    "console.log(let_test)\n",
    "let let_test = 'X'\n",
    "console.log(let_test)\n",
    "// Quelle est la différence avec var ?\n",
    "\n",
    "// Ici, avec un let, il est impossible d'acceder à la variable lorsqu'elle n'est pas définie.\n",
    "// Cela permet d'éviter un grand nombre de problèmes."
   ],
   "outputs": [
    {
     "output_type": "error",
     "ename": "ReferenceError",
     "evalue": "Cannot access 'let_test' before initialization",
     "traceback": [
      "evalmachine.<anonymous>:2",
      "console.log(let_test)",
      "            ^",
      "",
      "ReferenceError: Cannot access 'let_test' before initialization",
      "    at evalmachine.<anonymous>:2:13",
      "    at Script.runInThisContext (vm.js:133:18)",
      "    at Object.runInThisContext (vm.js:310:38)",
      "    at run ([eval]:1054:15)",
      "    at onRunRequest ([eval]:888:18)",
      "    at onMessage ([eval]:848:13)",
      "    at process.emit (events.js:315:20)",
      "    at emit (internal/child_process.js:903:12)",
      "    at processTicksAndRejections (internal/process/task_queues.js:81:21)"
     ]
    }
   ],
   "metadata": {}
  },
  {
   "cell_type": "markdown",
   "source": [
    "## Conditions"
   ],
   "metadata": {}
  },
  {
   "cell_type": "code",
   "execution_count": 7,
   "source": [
    "random = Math.round(Math.random()*100);\n",
    "console.log(random);\n",
    "// Ecrivez une condition permettant d'afficher si num est inférieur à 50, inférieur à 75 ou à défaut, affichez num. \n",
    "if(random < 50){\n",
    "    console.log('inferieur à 50')\n",
    "} else if(random < 75){\n",
    "    console.log('inferieur à 75')\n",
    "} else {\n",
    "    console.log(num)\n",
    "}"
   ],
   "outputs": [
    {
     "output_type": "stream",
     "name": "stdout",
     "text": [
      "12\n",
      "inferieur à 50\n"
     ]
    }
   ],
   "metadata": {}
  },
  {
   "cell_type": "markdown",
   "source": [
    "## Fonctions"
   ],
   "metadata": {}
  },
  {
   "cell_type": "code",
   "execution_count": 1,
   "source": [
    "// Ecrivez une fonction simple imprimant \"hello user, votre role est X\"\n",
    "// user et role sont des paramètres de la fonction. \n",
    "// Utilisez deux manières différentes de transmettre les paramètres. \n",
    "\n",
    "\n",
    "// Fonction standard sans return\n",
    "function helloWorld(user, role) {\n",
    "    console.log(`Hello ${user}, votre rôle est ${role}`)\n",
    "}\n",
    "\n",
    "helloWorld('test', 'utilisateur')\n",
    "\n",
    "// Fonction fléchée avec return\n",
    "let helloWorld2 = (user, role) => {\n",
    "    console.log(`Hello ${user}, votre rôle est ${role}`)\n",
    "};\n",
    "\n",
    "helloWorld2('test', 'utilisateur')\n",
    "\n",
    "// Modifiez cette fonction pour qu'elle retourne sa sortie plutot que de l'afficher directement.\n",
    "// Faites en sorte que le role par défaut soit \"user\"\n",
    "\n",
    "\n",
    "// Fonction standard avec return\n",
    "function helloWorld3(user, role='user') {\n",
    "    return `Hello ${user}, votre rôle est ${role}`\n",
    "}\n",
    "\n",
    "console.log(helloWorld3('test'))"
   ],
   "outputs": [
    {
     "output_type": "stream",
     "name": "stdout",
     "text": [
      "Hello test, votre rôle est utilisateur\n",
      "Hello test, votre rôle est utilisateur\n",
      "Hello test, votre rôle est user\n"
     ]
    }
   ],
   "metadata": {}
  },
  {
   "cell_type": "markdown",
   "source": [
    "## Fonctions (ES6)"
   ],
   "metadata": {}
  },
  {
   "cell_type": "code",
   "execution_count": 9,
   "source": [
    "// Observez ces différentes lignes et expliquez les raisons des variations syntaxiques que l'on peut observer. \n",
    "var evens = [1,2,3]\n",
    "\n",
    "var odds = evens.map(v => v + 1) // Ici un seul argument, on peut omettre la parenthèse\n",
    "console.log(odds)\n",
    "\n",
    "var nums = evens.map((v, i) => v + i) // Vu qu'il y'a plusieurs arguments on doit entourer les paramètres.\n",
    "console.log(nums)\n",
    "\n",
    "var pairs = evens.map(v => ({even: v, odd: v + 1})) // On met des parenthèses car ici on passe un objet.\n",
    "console.log(pairs)\n",
    " "
   ],
   "outputs": [
    {
     "output_type": "stream",
     "name": "stdout",
     "text": [
      "[ 2, 3, 4 ]\n",
      "[ 1, 3, 5 ]\n",
      "[ { even: 1, odd: 2 }, { even: 2, odd: 3 }, { even: 3, odd: 4 } ]\n"
     ]
    }
   ],
   "metadata": {}
  },
  {
   "cell_type": "code",
   "execution_count": 10,
   "source": [
    "var global_var = 'global'\n",
    "\n",
    "function global_test(){\n",
    "     // testez l'accès à global_var et local_var\n",
    "    var local_var = 'local_var'\n",
    "    console.log(local_var)\n",
    "    \n",
    "    global_var = 'locally overrided'\n",
    "    console.log(global_var)\n",
    "}\n",
    "\n",
    "console.log(global_var)\n",
    "global_test()\n",
    "\n",
    "// testez l'accès à global_var\n",
    "console.log(global_var)\n"
   ],
   "outputs": [
    {
     "output_type": "stream",
     "name": "stdout",
     "text": [
      "global\n",
      "global\n",
      "local_var\n",
      "locally overrided\n",
      "locally overrided\n"
     ]
    }
   ],
   "metadata": {}
  },
  {
   "cell_type": "markdown",
   "source": [
    "## Listes (tableaux)"
   ],
   "metadata": {}
  },
  {
   "cell_type": "code",
   "execution_count": 11,
   "source": [
    "// Convertissez cette chaine de caractères en une liste\n",
    "var str = 'a,b,c';\n",
    "console.log(str.split(','))\n",
    "\n",
    "// Créez une liste contenant les carrés des nombres 5,10,15,20\n",
    "var nb = [0,5,10,15,20]\n",
    "let square = []\n",
    "\n",
    "for(let i = 0; i < nb.length; i++) {\n",
    "    square.push(Math.pow(nb[i], 2))\n",
    "}\n",
    "\n",
    "console.log(...square)\n"
   ],
   "outputs": [
    {
     "output_type": "stream",
     "name": "stdout",
     "text": [
      "[ 'a', 'b', 'c' ]\n",
      "0 25 100 225 400\n"
     ]
    }
   ],
   "metadata": {}
  },
  {
   "cell_type": "code",
   "execution_count": 12,
   "source": [
    "let values = []\n",
    "for(let i = 0; i < 10; i++){\n",
    "    values.push(Math.round(Math.random()*100))\n",
    "}\n",
    "\n",
    "// Affichez successivement les valeurs de la variable values\n",
    "console.log(...values)\n",
    "\n",
    "// Affichez ces même valeurs, ainsi que l'index de chaque valeur\n",
    "values.forEach((element, index) => console.log(`${element}, index: ${index}`))\n"
   ],
   "outputs": [
    {
     "output_type": "stream",
     "name": "stdout",
     "text": [
      "80 92 80 63 79 52 38 11 67 43\n",
      "80, index: 0\n",
      "92, index: 1\n",
      "80, index: 2\n",
      "63, index: 3\n",
      "79, index: 4\n",
      "52, index: 5\n",
      "38, index: 6\n",
      "11, index: 7\n",
      "67, index: 8\n",
      "43, index: 9\n"
     ]
    }
   ],
   "metadata": {}
  },
  {
   "cell_type": "code",
   "execution_count": 2,
   "source": [
    "// générez les nombres de 1 à 9 et affichez la valeur de chacun au carré\n",
    "\n",
    "for(let i = 1; i < 10; i++) { console.log(i) }\n",
    "\n",
    "// Ecrivez une fonction permettant (pour la suite) de générer des range.\n",
    "\n",
    "function range(end, start=0) {\n",
    "    let output = []\n",
    "    for(let i = start; i < end + 1; i++) { output.push(i) }\n",
    "    return output\n",
    "}"
   ],
   "outputs": [
    {
     "output_type": "stream",
     "name": "stdout",
     "text": [
      "1\n",
      "2\n",
      "3\n",
      "4\n",
      "5\n",
      "6\n",
      "7\n",
      "8\n",
      "9\n"
     ]
    }
   ],
   "metadata": {}
  },
  {
   "cell_type": "code",
   "execution_count": null,
   "source": [],
   "outputs": [],
   "metadata": {}
  },
  {
   "cell_type": "code",
   "execution_count": 11,
   "source": [
    "// Ajoutez un élément à la liste letters et affichez la liste.\n",
    "var letters = ['a','b','c','d'];\n",
    "\n",
    "letters.push('e')\n",
    "console.log(...letters)\n",
    "\n",
    "// Testez si la liste letters contient la lettre 'Z'\n",
    "console.log(letters.indexOf('z') > -1 ? \"la liste contient la lettre\" : \"la liste ne contiens pas la lettre\")"
   ],
   "outputs": [
    {
     "output_type": "stream",
     "name": "stdout",
     "text": [
      "a b c d e\n",
      "la liste ne contiens pas la lettre\n"
     ]
    }
   ],
   "metadata": {}
  },
  {
   "cell_type": "code",
   "execution_count": 1,
   "source": [
    "// Déclarez une liste contenant les chiffres de 0 à 9\n",
    "function range(end, start=0) {\n",
    "    let output = []\n",
    "    for(let i = start; i < end + 1; i++) { output.push(i) }\n",
    "    return output\n",
    "}\n",
    "\n",
    "let range3 = range(9);\n",
    "\n",
    "// Ajoutez le nombre 5 à la position 1\n",
    "range3.splice(1, 0, 5);\n",
    "// Le nombre 5 est bien présent dans le tableau\n",
    "console.log(...range3)\n",
    "\n",
    "// Quelle est la longueur de la liste ? \n",
    "console.log(range3.length)\n",
    "\n",
    "// Quelle est la valeur max dans la liste ?\n",
    "console.log(Math.max(...range3))\n",
    "\n",
    "// Quelle est la somme de cette liste ?\n",
    "let sum = 0\n",
    "range3.forEach(element => sum = sum + element)\n",
    "console.log(sum)\n",
    "\n",
    "// En une seule ligne, affichez le nb à la position 1 et supprimez le de la liste\n",
    "console.log(...range3)\n",
    "\n",
    "console.log(range3[1]); range3.splice(1, 1);\n",
    "\n",
    "console.log(...range3)"
   ],
   "outputs": [
    {
     "output_type": "stream",
     "name": "stdout",
     "text": [
      "0 5 1 2 3 4 5 6 7 8 9\n",
      "11\n",
      "9\n",
      "50\n",
      "0 5 1 2 3 4 5 6 7 8 9\n",
      "5\n",
      "0 1 2 3 4 5 6 7 8 9\n"
     ]
    }
   ],
   "metadata": {}
  },
  {
   "cell_type": "code",
   "execution_count": 9,
   "source": [
    "let l1 = ['a','b','c'];\n",
    "let l2 = [1,2,3];\n",
    "\n",
    "// Affichez une sortie a = 1, ... sur la base de ces deux listes.\n",
    "\n",
    "l1.forEach((element, index) => console.log(`${element} = ${l2[index]}`))"
   ],
   "outputs": [
    {
     "output_type": "stream",
     "name": "stdout",
     "text": [
      "a = 1\n",
      "b = 2\n",
      "c = 3\n"
     ]
    }
   ],
   "metadata": {}
  },
  {
   "cell_type": "markdown",
   "source": [
    "## Objets (JSON) "
   ],
   "metadata": {}
  },
  {
   "cell_type": "code",
   "execution_count": 3,
   "source": [
    "var student = {'name': 'bob', 'level': 5};\n",
    "typeof(student);"
   ],
   "outputs": [
    {
     "output_type": "execute_result",
     "data": {
      "text/plain": [
       "'object'"
      ]
     },
     "metadata": {},
     "execution_count": 3
    }
   ],
   "metadata": {}
  },
  {
   "cell_type": "code",
   "execution_count": 4,
   "source": [
    "// Ajoutez à ce dict une nouvelle clé contenant la liste 'courses' avec les valeurs 'python' et 'javascript', ajoutez 1 à la clé level\n",
    "\n",
    "student.courses = ['python', 'javascript']\n",
    "student.level = student.level + 1\n",
    "console.log(student)"
   ],
   "outputs": [
    {
     "output_type": "stream",
     "name": "stdout",
     "text": [
      "{ name: 'bob', level: 6, courses: [ 'python', 'javascript' ] }\n"
     ]
    }
   ],
   "metadata": {}
  },
  {
   "cell_type": "code",
   "execution_count": 5,
   "source": [
    "// Affichez chaque valeur sur une ligne\n",
    "arrayValues = Object.values(student)\n",
    "arrayValues.forEach(el => console.log(el))\n",
    "\n",
    "// Affichez chaque paire sous la forme 'clé = valeur'\n",
    "arrayKeys = Object.keys(student)\n",
    "arrayKeys.forEach((element, index) => console.log(`${element} = ${arrayValues[index]}`))"
   ],
   "outputs": [
    {
     "output_type": "stream",
     "name": "stdout",
     "text": [
      "bob\n",
      "6\n",
      "[ 'python', 'javascript' ]\n",
      "name = bob\n",
      "level = 6\n",
      "courses = python,javascript\n"
     ]
    }
   ],
   "metadata": {}
  },
  {
   "cell_type": "code",
   "execution_count": 6,
   "source": [
    "// Créez une liste students contenant notre dict student et ajoutez un second dict similaire.\n",
    "let student_list = []\n",
    "\n",
    "student_list.push(student)\n",
    "\n",
    "student2 = {\n",
    "    'name': 'john doe',\n",
    "    'level': 5,\n",
    "    'courses': ['javascript', 'c++']\n",
    "}\n",
    "student_list.push(student2)\n",
    "\n",
    "// Affichez chaque paire de chaque objet '\n",
    "student_list.forEach(element => console.log(element))\n"
   ],
   "outputs": [
    {
     "output_type": "stream",
     "name": "stdout",
     "text": [
      "{ name: 'bob', level: 6, courses: [ 'python', 'javascript' ] }\n",
      "{ name: 'john doe', level: 5, courses: [ 'javascript', 'c++' ] }\n"
     ]
    }
   ],
   "metadata": {}
  },
  {
   "cell_type": "code",
   "execution_count": 11,
   "source": [
    "// Sur la base de ces deux listes, créez un dictionnaires associant les clés (values_1) aux valeurs (values_2)\n",
    "\n",
    "var keys_list = ['a','b','c'];\n",
    "var values_list = [1,2,3];\n",
    "\n",
    "let object1 = {}\n",
    "\n",
    "l1.forEach((element, index) => console.log(`${element} = ${l2[index]}`))"
   ],
   "outputs": [
    {
     "output_type": "stream",
     "name": "stdout",
     "text": [
      "a = 1\n",
      "b = 2\n",
      "c = 3\n"
     ]
    }
   ],
   "metadata": {}
  },
  {
   "cell_type": "code",
   "execution_count": null,
   "source": [],
   "outputs": [],
   "metadata": {}
  }
 ],
 "metadata": {
  "kernelspec": {
   "display_name": "Javascript (Node.js)",
   "language": "javascript",
   "name": "javascript"
  },
  "language_info": {
   "file_extension": ".js",
   "mimetype": "application/javascript",
   "name": "javascript",
   "version": "14.15.5"
  }
 },
 "nbformat": 4,
 "nbformat_minor": 4
}