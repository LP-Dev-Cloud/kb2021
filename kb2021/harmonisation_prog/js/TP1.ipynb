{
 "cells": [
  {
   "cell_type": "markdown",
   "metadata": {},
   "source": [
    "# Bases syntaxiques de Javascript"
   ]
  },
  {
   "cell_type": "code",
   "execution_count": 1,
   "metadata": {},
   "outputs": [
    {
     "name": "stdout",
     "output_type": "stream",
     "text": [
      "Hello World!\n"
     ]
    }
   ],
   "source": [
    "console.log(\"Hello World!\");"
   ]
  },
  {
   "cell_type": "code",
   "execution_count": 2,
   "metadata": {},
   "outputs": [
    {
     "name": "stdout",
     "output_type": "stream",
     "text": [
      "v15.2.1\n"
     ]
    }
   ],
   "source": [
    "console.log(process.version);"
   ]
  },
  {
   "cell_type": "code",
   "execution_count": 3,
   "metadata": {},
   "outputs": [
    {
     "name": "stdout",
     "output_type": "stream",
     "text": [
      "hello world\n"
     ]
    }
   ],
   "source": [
    "var world = 'world';\n",
    "//  Utilisez une interpolation pour afficher le contenu de la variable world dans la String \"hello ___!\"\n",
    "\n",
    "console.log(`hello ${world}`);"
   ]
  },
  {
   "cell_type": "markdown",
   "metadata": {},
   "source": [
    "## Types"
   ]
  },
  {
   "cell_type": "code",
   "execution_count": 4,
   "metadata": {},
   "outputs": [
    {
     "name": "stdout",
     "output_type": "stream",
     "text": [
      "number\n",
      "string\n",
      "object\n",
      "object\n"
     ]
    }
   ],
   "source": [
    "// Affichez les types (fonction typeof()) de : 8, \"test\", [], {}\n",
    "console.log(typeof(8));\n",
    "console.log(typeof(\"test\"));\n",
    "console.log(typeof([]));\n",
    "console.log(typeof({}));"
   ]
  },
  {
   "cell_type": "markdown",
   "metadata": {},
   "source": [
    "## Variables"
   ]
  },
  {
   "cell_type": "code",
   "execution_count": 5,
   "metadata": {},
   "outputs": [
    {
     "name": "stdout",
     "output_type": "stream",
     "text": [
      "undefined\n",
      "X\n"
     ]
    }
   ],
   "source": [
    "console.log(var_test)\n",
    "var var_test = 'X'\n",
    "console.log(var_test)\n",
    "// Que peut-on conclure ?\n",
    "\n",
    "// Avec un var nous pouvons accèder à la variable même lorsque celle-ci n'est pas déclarée."
   ]
  },
  {
   "cell_type": "code",
   "execution_count": 6,
   "metadata": {},
   "outputs": [
    {
     "ename": "ReferenceError",
     "evalue": "Cannot access 'let_test' before initialization",
     "output_type": "error",
     "traceback": [
      "evalmachine.<anonymous>:2",
      "console.log(let_test)",
      "            ^",
      "",
      "ReferenceError: Cannot access 'let_test' before initialization",
      "    at evalmachine.<anonymous>:2:13",
      "    at Script.runInThisContext (node:vm:132:18)",
      "    at Object.runInThisContext (node:vm:309:38)",
      "    at run ([eval]:1054:15)",
      "    at onRunRequest ([eval]:888:18)",
      "    at onMessage ([eval]:848:13)",
      "    at process.emit (node:events:329:20)",
      "    at emit (node:internal/child_process:910:12)",
      "    at processTicksAndRejections (node:internal/process/task_queues:81:21)"
     ]
    }
   ],
   "source": [
    "// Faites la même chose en déclarant une variable avec let à la place de var\n",
    "console.log(let_test)\n",
    "let let_test = 'X'\n",
    "console.log(let_test)\n",
    "// Quelle est la différence avec var ?\n",
    "\n",
    "// Ici, avec un let, il est impossible d'acceder à la variable lorsqu'elle n'est pas définie.\n",
    "// Cela permet d'éviter un grand nombre de problèmes."
   ]
  },
  {
   "cell_type": "markdown",
   "metadata": {},
   "source": [
    "## Conditions"
   ]
  },
  {
   "cell_type": "code",
   "execution_count": 7,
   "metadata": {},
   "outputs": [
    {
     "name": "stdout",
     "output_type": "stream",
     "text": [
      "34\n",
      "inferieur à 50\n"
     ]
    }
   ],
   "source": [
    "random = Math.round(Math.random()*100);\n",
    "console.log(random);\n",
    "// Ecrivez une condition permettant d'afficher si num est inférieur à 50, inférieur à 75 ou à défaut, affichez num. \n",
    "if(random < 50){\n",
    "    console.log('inferieur à 50')\n",
    "} else if(random < 75){\n",
    "    console.log('inferieur à 75')\n",
    "} else {\n",
    "    console.log(num)\n",
    "}"
   ]
  },
  {
   "cell_type": "markdown",
   "metadata": {},
   "source": [
    "## Fonctions"
   ]
  },
  {
   "cell_type": "code",
   "execution_count": 8,
   "metadata": {},
   "outputs": [
    {
     "name": "stdout",
     "output_type": "stream",
     "text": [
      "Hello test, votre rôle est utilisateur\n",
      "Hello test, votre rôle est utilisateur\n",
      "Hello test, votre rôle est user\n"
     ]
    }
   ],
   "source": [
    "// Ecrivez une fonction simple imprimant \"hello user, votre role est X\"\n",
    "// user et role sont des paramètres de la fonction. \n",
    "// Utilisez deux manières différentes de transmettre les paramètres. \n",
    "\n",
    "\n",
    "// Fonction standard sans return\n",
    "function helloWorld(user, role) {\n",
    "    console.log(`Hello ${user}, votre rôle est ${role}`)\n",
    "}\n",
    "\n",
    "helloWorld('test', 'utilisateur')\n",
    "\n",
    "// Fonction fléchée avec return\n",
    "let helloWorld2 = (user, role) => {\n",
    "    console.log(`Hello ${user}, votre rôle est ${role}`)\n",
    "};\n",
    "\n",
    "helloWorld2('test', 'utilisateur')\n",
    "\n",
    "// Modifiez cette fonction pour qu'elle retourne sa sortie plutot que de l'afficher directement.\n",
    "// Faites en sorte que le role par défaut soit \"user\"\n",
    "\n",
    "\n",
    "// Fonction standard avec return\n",
    "function helloWorld3(user, role='user') {\n",
    "    return `Hello ${user}, votre rôle est ${role}`\n",
    "}\n",
    "\n",
    "console.log(helloWorld3('test'))"
   ]
  },
  {
   "cell_type": "markdown",
   "metadata": {},
   "source": [
    "## Fonctions (ES6)"
   ]
  },
  {
   "cell_type": "code",
   "execution_count": 9,
   "metadata": {},
   "outputs": [
    {
     "name": "stdout",
     "output_type": "stream",
     "text": [
      "[ 2, 3, 4 ]\n",
      "[ 1, 3, 5 ]\n",
      "[ { even: 1, odd: 2 }, { even: 2, odd: 3 }, { even: 3, odd: 4 } ]\n"
     ]
    }
   ],
   "source": [
    "// Observez ces différentes lignes et expliquez les raisons des variations syntaxiques que l'on peut observer. \n",
    "var evens = [1,2,3]\n",
    "\n",
    "var odds = evens.map(v => v + 1) // Ici un seul argument, on peut omettre la parenthèse\n",
    "console.log(odds)\n",
    "\n",
    "var nums = evens.map((v, i) => v + i) // Vu qu'il y'a plusieurs arguments on doit entourer les paramètres.\n",
    "console.log(nums)\n",
    "\n",
    "var pairs = evens.map(v => ({even: v, odd: v + 1})) // On met des parenthèses car ici on passe un objet.\n",
    "console.log(pairs)\n",
    " "
   ]
  },
  {
   "cell_type": "code",
   "execution_count": 10,
   "metadata": {},
   "outputs": [
    {
     "name": "stdout",
     "output_type": "stream",
     "text": [
      "global\n",
      "local_var\n",
      "locally overrided\n",
      "locally overrided\n"
     ]
    }
   ],
   "source": [
    "var global_var = 'global'\n",
    "\n",
    "function global_test(){\n",
    "     // testez l'accès à global_var et local_var\n",
    "    var local_var = 'local_var'\n",
    "    console.log(local_var)\n",
    "    \n",
    "    global_var = 'locally overrided'\n",
    "    console.log(global_var)\n",
    "}\n",
    "\n",
    "console.log(global_var)\n",
    "global_test()\n",
    "\n",
    "// testez l'accès à global_var\n",
    "console.log(global_var)\n"
   ]
  },
  {
   "cell_type": "markdown",
   "metadata": {},
   "source": [
    "## Listes (tableaux)"
   ]
  },
  {
   "cell_type": "code",
   "execution_count": 11,
   "metadata": {},
   "outputs": [
    {
     "name": "stdout",
     "output_type": "stream",
     "text": [
      "[ 'a', 'b', 'c' ]\n",
      "0 25 100 225 400\n"
     ]
    }
   ],
   "source": [
    "// Convertissez cette chaine de caractères en une liste\n",
    "var str = 'a,b,c';\n",
    "console.log(str.split(','))\n",
    "\n",
    "// Créez une liste contenant les carrés des nombres 5,10,15,20\n",
    "var nb = [0,5,10,15,20]\n",
    "let square = []\n",
    "\n",
    "for(let i = 0; i < nb.length; i++) {\n",
    "    square.push(Math.pow(nb[i], 2))\n",
    "}\n",
    "\n",
    "console.log(...square)\n"
   ]
  },
  {
   "cell_type": "code",
   "execution_count": 12,
   "metadata": {},
   "outputs": [
    {
     "name": "stdout",
     "output_type": "stream",
     "text": [
      "23 17 22 82 92 40 58 34 60 57\n",
      "23, index: 0\n",
      "17, index: 1\n",
      "22, index: 2\n",
      "82, index: 3\n",
      "92, index: 4\n",
      "40, index: 5\n",
      "58, index: 6\n",
      "34, index: 7\n",
      "60, index: 8\n",
      "57, index: 9\n"
     ]
    }
   ],
   "source": [
    "let values = []\n",
    "for(let i = 0; i < 10; i++){\n",
    "    values.push(Math.round(Math.random()*100))\n",
    "}\n",
    "\n",
    "// Affichez successivement les valeurs de la variable values\n",
    "console.log(...values)\n",
    "\n",
    "// Affichez ces même valeurs, ainsi que l'index de chaque valeur\n",
    "values.forEach((element, index) => console.log(`${element}, index: ${index}`))\n"
   ]
  },
  {
   "cell_type": "code",
   "execution_count": 13,
   "metadata": {},
   "outputs": [
    {
     "name": "stdout",
     "output_type": "stream",
     "text": [
      "1\n",
      "2\n",
      "3\n",
      "4\n",
      "5\n",
      "6\n",
      "7\n",
      "8\n",
      "9\n"
     ]
    }
   ],
   "source": [
    "// générez les nombres de 1 à 9 et affichez la valeur de chacun au carré\n",
    "\n",
    "for(let i = 1; i < 10; i++) { console.log(i) }\n",
    "\n",
    "// Ecrivez une fonction permettant (pour la suite) de générer des range.\n",
    "\n",
    "function range(end, start=0) {\n",
    "    let output = []\n",
    "    for(let i = start; i < end + 1; i++) { output.push(i) }\n",
    "    return output\n",
    "}"
   ]
  },
  {
   "cell_type": "code",
   "execution_count": null,
   "metadata": {},
   "outputs": [],
   "source": []
  },
  {
   "cell_type": "code",
   "execution_count": 14,
   "metadata": {},
   "outputs": [
    {
     "name": "stdout",
     "output_type": "stream",
     "text": [
      "a b c d e\n",
      "la liste ne contiens pas la lettre\n"
     ]
    }
   ],
   "source": [
    "// Ajoutez un élément à la liste letters et affichez la liste.\n",
    "var letters = ['a','b','c','d'];\n",
    "\n",
    "letters.push('e')\n",
    "console.log(...letters)\n",
    "\n",
    "// Testez si la liste letters contient la lettre 'Z'\n",
    "console.log(letters.indexOf('z') > -1 ? \"la liste contient la lettre\" : \"la liste ne contiens pas la lettre\")"
   ]
  },
  {
   "cell_type": "code",
   "execution_count": 15,
   "metadata": {},
   "outputs": [
    {
     "name": "stdout",
     "output_type": "stream",
     "text": [
      "0 5 1 2 3 4 5 6 7 8 9\n",
      "11\n",
      "9\n",
      "50\n",
      "0 5 1 2 3 4 5 6 7 8 9\n",
      "5\n",
      "0 1 2 3 4 5 6 7 8 9\n"
     ]
    }
   ],
   "source": [
    "// Déclarez une liste contenant les chiffres de 0 à 9\n",
    "function range(end, start=0) {\n",
    "    let output = []\n",
    "    for(let i = start; i < end + 1; i++) { output.push(i) }\n",
    "    return output\n",
    "}\n",
    "\n",
    "let range3 = range(9);\n",
    "\n",
    "// Ajoutez le nombre 5 à la position 1\n",
    "range3.splice(1, 0, 5);\n",
    "// Le nombre 5 est bien présent dans le tableau\n",
    "console.log(...range3)\n",
    "\n",
    "// Quelle est la longueur de la liste ? \n",
    "console.log(range3.length)\n",
    "\n",
    "// Quelle est la valeur max dans la liste ?\n",
    "console.log(Math.max(...range3))\n",
    "\n",
    "// Quelle est la somme de cette liste ?\n",
    "let sum = 0\n",
    "range3.forEach(element => sum = sum + element)\n",
    "console.log(sum)\n",
    "\n",
    "// En une seule ligne, affichez le nb à la position 1 et supprimez le de la liste\n",
    "console.log(...range3)\n",
    "\n",
    "console.log(range3[1]); range3.splice(1, 1);\n",
    "\n",
    "console.log(...range3)"
   ]
  },
  {
   "cell_type": "code",
   "execution_count": 16,
   "metadata": {},
   "outputs": [
    {
     "name": "stdout",
     "output_type": "stream",
     "text": [
      "a = 1\n",
      "b = 2\n",
      "c = 3\n"
     ]
    }
   ],
   "source": [
    "let l1 = ['a','b','c'];\n",
    "let l2 = [1,2,3];\n",
    "\n",
    "// Affichez une sortie a = 1, ... sur la base de ces deux listes.\n",
    "\n",
    "l1.forEach((element, index) => console.log(`${element} = ${l2[index]}`))"
   ]
  },
  {
   "cell_type": "markdown",
   "metadata": {},
   "source": [
    "## Objets (JSON) "
   ]
  },
  {
   "cell_type": "code",
   "execution_count": 17,
   "metadata": {},
   "outputs": [
    {
     "data": {
      "text/plain": [
       "'object'"
      ]
     },
     "execution_count": 17,
     "metadata": {},
     "output_type": "execute_result"
    }
   ],
   "source": [
    "var student = {'name': 'bob', 'level': 5};\n",
    "typeof(student);"
   ]
  },
  {
   "cell_type": "code",
   "execution_count": 22,
   "metadata": {},
   "outputs": [
    {
     "name": "stdout",
     "output_type": "stream",
     "text": [
      "{ name: 'bob', level: 7, courses: [ 'python', 'javascript' ] }\n"
     ]
    }
   ],
   "source": [
    "// Ajoutez à ce dict une nouvelle clé contenant la liste 'courses' avec les valeurs 'python' et 'javascript', ajoutez 1 à la clé level\n",
    "\n",
    "student.courses = ['python', 'javascript']\n",
    "student.level = student.level + 1\n",
    "// ou \n",
    "// student['level']++;\n",
    "console.log(student)"
   ]
  },
  {
   "cell_type": "code",
   "execution_count": 19,
   "metadata": {},
   "outputs": [
    {
     "name": "stdout",
     "output_type": "stream",
     "text": [
      "bob\n",
      "6\n",
      "[ 'python', 'javascript' ]\n",
      "name = bob\n",
      "level = 6\n",
      "courses = python,javascript\n"
     ]
    }
   ],
   "source": [
    "// Affichez chaque valeur sur une ligne\n",
    "arrayValues = Object.values(student)\n",
    "arrayValues.forEach(el => console.log(el))\n",
    "\n",
    "// Affichez chaque paire sous la forme 'clé = valeur'\n",
    "arrayKeys = Object.keys(student)\n",
    "arrayKeys.forEach((element, index) => console.log(`${element} = ${arrayValues[index]}`))\n",
    "\n",
    "// Autre solution : \n",
    "\n",
    "// Récupérer les entrées d'un obj \n",
    "console.log(Object.entries(student));\n",
    "\n",
    "Object.entries(student).forEach(([k,v]) => {console.log(v)}); \n",
    "// Autre syntaxe possible\n",
    "for (let [k, v] of Object.entries(student)) {\n",
    "    console.log(k, v);\n",
    "}"
   ]
  },
  {
   "cell_type": "code",
   "execution_count": 26,
   "metadata": {},
   "outputs": [
    {
     "name": "stdout",
     "output_type": "stream",
     "text": [
      "name = bob\n",
      "level = 7\n",
      "courses = python,javascript\n",
      "name = john doe\n",
      "level = 5\n",
      "courses = javascript,c++\n"
     ]
    }
   ],
   "source": [
    "// Créez une liste students contenant notre dict student et ajoutez un second dict similaire.\n",
    "var student_list = []\n",
    "\n",
    "student_list.push(student)\n",
    "\n",
    "student2 = {\n",
    "    'name': 'john doe',\n",
    "    'level': 5,\n",
    "    'courses': ['javascript', 'c++']\n",
    "}\n",
    "student_list.push(student2)\n",
    "\n",
    "// Affichez chaque paire de chaque objet '\n",
    "\n",
    "student_list.forEach((student) => {\n",
    "    Object.entries(student).forEach(([k,v]) => {console.log(`${k} = ${v}`)})\n",
    "})\n"
   ]
  },
  {
   "cell_type": "code",
   "execution_count": 2,
   "metadata": {},
   "outputs": [
    {
     "name": "stdout",
     "output_type": "stream",
     "text": [
      "map [ { a: 1 }, { b: 2 }, { c: 3 } ]\n",
      "result_assign { a: 1, b: 2, c: 3 }\n",
      "10 20\n",
      "[ 30, 40, 50 ]\n"
     ]
    }
   ],
   "source": [
    "// Sur la base de ces deux listes, créez un dictionnaires associant les clés (values_1) aux valeurs (values_2)\n",
    "\n",
    "var keys_list = ['a','b','c'];\n",
    "var values_list = [1,2,3];\n",
    "\n",
    "// Première solution\n",
    "var result = {}; \n",
    "keys_list.forEach((key,idx) => {result[key]=values_list[idx]});\n",
    "\n",
    "// Solution one-liner.\n",
    "var result_assign = Object.assign(...keys_list.map((k, i) => ({[k]: values_list[i]})))\n",
    "// ... liste de paramètres (on veut retourner {} comme chaque paramètre) \n",
    "console.log('map', keys_list.map((k, i) => ({[k]: values_list[i]}))); // les ... spread le résultat du map\n",
    "// on peut faire ... parce qu'on veut une liste de paramètre\n",
    "// dans l'arrow fonction, on retourne entre parenthèse pour dire qu'on veut retourner un objet, sinon il interprète les accolades comme un block \n",
    "\n",
    "console.log('result_assign', result_assign);\n",
    "\n",
    "// A propos des arguments destructurés \n",
    "var a, b, rest;\n",
    "[a, b] = [10, 20];\n",
    "console.log(a,b);\n",
    "[a, b, ...rest] = [10, 20, 30, 40, 50];\n",
    "\n",
    "console.log(rest);"
   ]
  },
  {
   "cell_type": "code",
   "execution_count": null,
   "metadata": {},
   "outputs": [],
   "source": []
  }
 ],
 "metadata": {
  "kernelspec": {
   "display_name": "Javascript (Node.js)",
   "language": "javascript",
   "name": "javascript"
  },
  "language_info": {
   "file_extension": ".js",
   "mimetype": "application/javascript",
   "name": "javascript",
   "version": "15.2.1"
  }
 },
 "nbformat": 4,
 "nbformat_minor": 4
}
