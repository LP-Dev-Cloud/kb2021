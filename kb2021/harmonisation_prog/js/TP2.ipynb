{
 "cells": [
  {
   "cell_type": "markdown",
   "metadata": {},
   "source": [
    "# Javascript Orienté Objet"
   ]
  },
  {
   "cell_type": "markdown",
   "metadata": {},
   "source": [
    "## Classes"
   ]
  },
  {
   "cell_type": "code",
   "execution_count": 2,
   "metadata": {},
   "outputs": [
    {
     "name": "stdout",
     "output_type": "stream",
     "text": [
      "Bob knows Alice\n"
     ]
    }
   ],
   "source": [
    "// Avec ou sans mot-clé class ... \n",
    "var bob = {\n",
    "    _name: \"Bob\",\n",
    "    _friends: [\"Alice\"],\n",
    "    printFriends() {\n",
    "        this._friends.forEach(f => {\n",
    "            console.log(this._name + \" knows \" + f)\n",
    "        });\n",
    "    }\n",
    "};\n",
    "\n",
    "bob.printFriends();"
   ]
  },
  {
   "cell_type": "code",
   "execution_count": 4,
   "metadata": {},
   "outputs": [],
   "source": [
    "// Définition d'une classe \n",
    "class Rectangle{\n",
    "    // Constructor\n",
    "    constructor(height, width){\n",
    "        this.height = height;\n",
    "        this.width = width;\n",
    "        this.current_color;\n",
    "    }\n",
    "    // Getter\n",
    "    get area(){\n",
    "        return this.calcArea();\n",
    "    }\n",
    "    \n",
    "    get color(){\n",
    "        return this.current_color;\n",
    "    }\n",
    "    // Setter\n",
    "    set color(color){\n",
    "        this.current_color = color;\n",
    "    }\n",
    "    \n",
    "    // Method\n",
    "    calcArea(){\n",
    "        return this.height * this.width;\n",
    "    }\n",
    "}"
   ]
  },
  {
   "cell_type": "code",
   "execution_count": 5,
   "metadata": {},
   "outputs": [
    {
     "name": "stdout",
     "output_type": "stream",
     "text": [
      "100, red\n"
     ]
    }
   ],
   "source": [
    "// Déclaration d'une instance\n",
    "var square = new Rectangle(10, 10);\n",
    "// Précisez la couleur du rectangle\n",
    "square.color = 'red'\n",
    "\n",
    "// Accédez aux différentes valeur définies par les getters.\n",
    "console.log(`${square.area}, ${square.current_color}`)"
   ]
  },
  {
   "cell_type": "code",
   "execution_count": 1,
   "metadata": {},
   "outputs": [
    {
     "name": "stdout",
     "output_type": "stream",
     "text": [
      "Ida printed ...\n",
      "Herité Ida printed ...\n"
     ]
    }
   ],
   "source": [
    "class Base { \n",
    "    constructor(name) {\n",
    "        this.name = name;\n",
    "    }\n",
    "\n",
    "    print() {\n",
    "        console.log(`${this.name} printed ...`);\n",
    "    }\n",
    "}\n",
    "// En utilisant le mot-clé extends, héritez de cette classe, et utilisez sa fonction print. \n",
    "\n",
    "class Herite extends Base {\n",
    "    constructor(name) {\n",
    "        super(name);\n",
    "    }\n",
    "    print() {\n",
    "        super.print()\n",
    "        console.log(`Herité ${this.name} printed ...`)\n",
    "    }\n",
    "}\n",
    "\n",
    "let c = new Herite('Ida');\n",
    "c.print();"
   ]
  },
  {
   "cell_type": "code",
   "execution_count": null,
   "metadata": {},
   "outputs": [],
   "source": []
  },
  {
   "cell_type": "code",
   "execution_count": 7,
   "metadata": {},
   "outputs": [
    {
     "name": "stdout",
     "output_type": "stream",
     "text": [
      "2500\n"
     ]
    }
   ],
   "source": [
    "// Une classe peut ne pas être nommée\n",
    "var AnotherRectangle = class {\n",
    "    constructor(height, width) {\n",
    "        this.height = height;\n",
    "        this.width = width;\n",
    "    }\n",
    "\n",
    "    get area(){\n",
    "        return this.calcArea();\n",
    "    }\n",
    "    \n",
    "    calcArea(){\n",
    "        return this.height * this.width;\n",
    "    }\n",
    "};\n",
    "\n",
    "var square2 = new AnotherRectangle(50,50);\n",
    "console.log(square2.area);\n",
    "\n"
   ]
  },
  {
   "cell_type": "code",
   "execution_count": 8,
   "metadata": {},
   "outputs": [
    {
     "name": "stdout",
     "output_type": "stream",
     "text": [
      "Rectangle\n",
      "AnotherRectangle\n"
     ]
    }
   ],
   "source": [
    "// affichez les sorties des méthodes Class.name de nos deux class, que peut-on déduire ?\n",
    "console.log(Rectangle.name);\n",
    "console.log(AnotherRectangle.name);\n",
    "// Finalement même comportement que les fonctions"
   ]
  },
  {
   "cell_type": "markdown",
   "metadata": {},
   "source": [
    "## Asynchronisme"
   ]
  },
  {
   "cell_type": "code",
   "execution_count": 1,
   "metadata": {},
   "outputs": [
    {
     "name": "stdout",
     "output_type": "stream",
     "text": [
      "undefined\n",
      "callback response\n"
     ]
    }
   ],
   "source": [
    "// Démonstration du problème\n",
    "\n",
    "// Imaginons une fonction prenant du temps à l'execution ... \n",
    "var async_call = function(){\n",
    "    setTimeout(function(){\n",
    "        return 'something';\n",
    "    }, 300);\n",
    "};\n",
    "\n",
    "console.log(async_call());\n",
    "// Quel est le problème ?\n",
    "// Quelle solution pourrait-on imaginer ? \n",
    "\n",
    "// Technique dite du \"callback\"\n",
    "\n",
    "// JS déclaration de la fonction\n",
    "var async_call = function(callback){\n",
    " setTimeout(function() {\n",
    "   callback('callback response');\n",
    " }, 300);\n",
    "}\n",
    "\n",
    "// Appel de la fonction, passage de la fonction de callback en paramètre.\n",
    "async_call(function(response){\n",
    "   console.log(response);\n",
    "})"
   ]
  },
  {
   "cell_type": "markdown",
   "metadata": {},
   "source": [
    "## Promises"
   ]
  },
  {
   "cell_type": "code",
   "execution_count": 2,
   "metadata": {},
   "outputs": [
    {
     "name": "stdout",
     "output_type": "stream",
     "text": [
      "Promise { <pending> }\n",
      "promise response\n",
      "promise2 response\n"
     ]
    }
   ],
   "source": [
    "// déclaration de la promise\n",
    "var promise1 = new Promise(function(resolve, reject) {\n",
    "  setTimeout(function() {\n",
    "    resolve('promise response');\n",
    "  }, 300);\n",
    "});\n",
    "\n",
    "// code s'exécutant lorsque la promise est résolue. \n",
    "promise1.then(function(value) {\n",
    "  console.log(value);\n",
    "});\n",
    "\n",
    "// La variable promise1 est bien de type \"Promise\". \n",
    "console.log(promise1);\n",
    "\n",
    "// réécrivez cette fonction en ES6 \n",
    "\n",
    "var promise2 = new Promise((resolve, reject) => {\n",
    "    setTimeout(() => resolve('promise2 response'), 300)\n",
    "})\n",
    "\n",
    "promise2.then(value => console.log(value));\n",
    "\n"
   ]
  },
  {
   "cell_type": "markdown",
   "metadata": {},
   "source": [
    "## Requêtes (XMLHttpRequest)"
   ]
  },
  {
   "cell_type": "code",
   "execution_count": 3,
   "metadata": {},
   "outputs": [
    {
     "ename": "ReferenceError",
     "evalue": "XMLHttpRequest is not defined",
     "output_type": "error",
     "traceback": [
      "evalmachine.<anonymous>:2",
      "var xhr = new XMLHttpRequest();",
      "          ^",
      "",
      "ReferenceError: XMLHttpRequest is not defined",
      "    at evalmachine.<anonymous>:2:11",
      "    at Script.runInThisContext (vm.js:133:18)",
      "    at Object.runInThisContext (vm.js:310:38)",
      "    at run ([eval]:1054:15)",
      "    at onRunRequest ([eval]:888:18)",
      "    at onMessage ([eval]:848:13)",
      "    at process.emit (events.js:315:20)",
      "    at emit (internal/child_process.js:903:12)",
      "    at processTicksAndRejections (internal/process/task_queues.js:81:21)"
     ]
    }
   ],
   "source": [
    "// Exemple (non fonctionnel dans Jupyter) d'une requête XMLHttpRequest\n",
    "var xhr = new XMLHttpRequest();\n",
    "xhr.open(\"POST\", 'https://jsonplaceholder.typicode.com/posts', true);\n",
    "\n",
    "//Send the proper header information along with the request\n",
    "xhr.setRequestHeader(\"Content-Type\", \"application/json\");\n",
    "\n",
    "\n",
    "xhr.onreadystatechange = function() { // Call a function when the state changes.\n",
    "    if (this.readyState === XMLHttpRequest.DONE && this.status === 200) {\n",
    "        console.log(\"finished\");\n",
    "    }\n",
    "}\n",
    "\n",
    "var body = {\n",
    "    title: 'foo',\n",
    "    body: 'bar',\n",
    "    userId: 1\n",
    "};\n",
    "\n",
    "xhr.send(JSON.stringify(body));"
   ]
  },
  {
   "cell_type": "code",
   "execution_count": null,
   "metadata": {},
   "outputs": [],
   "source": [
    "// Avant de run ce block, installez node-fetch (npm install node-fetch)\n",
    "var fetch = require('node-fetch'); \n",
    "\n",
    "// Prenez le temps de comprendre / commenter chaque étape \n",
    "\n",
    "// Exemple de requête POST\n",
    "var body = {\n",
    "    title: 'foo',\n",
    "    body: 'bar',\n",
    "    userId: 1\n",
    "};\n",
    "// On définit le body de la requête.\n",
    "\n",
    "fetch('https://jsonplaceholder.typicode.com/posts', { // On envoie la requête en précisant les headers.\n",
    "    method: 'POST',\n",
    "    body: JSON.stringify(body),\n",
    "    headers: {\n",
    "        \"Content-type\": \"application/json; charset=UTF-8\"\n",
    "    }\n",
    "})\n",
    ".then(response => response.json()) // On attends la réponse du serveur\n",
    ".then(json => console.log(json)) // On affiche le contenu renvoyé\n",
    "\n",
    "// Exemple de requête GET \n",
    "\n",
    "fetch('https://jsonplaceholder.typicode.com/posts/1') // On fait une requête GET au serveur pour récup un JSON\n",
    "  .then(response => response.json()) // On attends la réponse du serveur\n",
    "  .then(json => console.log(json)) // On affiche le contenu renvoyé\n"
   ]
  }
 ],
 "metadata": {
  "kernelspec": {
   "display_name": "Javascript (Node.js)",
   "language": "javascript",
   "name": "javascript"
  },
  "language_info": {
   "file_extension": ".js",
   "mimetype": "application/javascript",
   "name": "javascript",
   "version": "15.2.1"
  }
 },
 "nbformat": 4,
 "nbformat_minor": 4
}
