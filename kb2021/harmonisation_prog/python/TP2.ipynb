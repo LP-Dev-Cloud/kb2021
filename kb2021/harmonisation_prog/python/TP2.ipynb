{
 "cells": [
  {
   "cell_type": "markdown",
   "source": [
    "# Python Orienté Objet"
   ],
   "metadata": {}
  },
  {
   "cell_type": "code",
   "execution_count": 1,
   "source": [
    "# Imaginons que nous devons gérer une liste d'étudiants, contenant les noms, ages, groupes, etc... \n",
    "# Voici une structure de données simple permettant cette représentation \n",
    "alice = ['Alice', 22, 'A']\n",
    "bob = ['Bob', 21, 'B']\n",
    "carol = ['Carol', 22, 'C']\n",
    "\n",
    "# Quels problèmes pourrait-il y avoir à long terme dans l'usage de cette structure, imaginons par exemple qu'il n'y ait de l'information supplémentaire pour\n",
    "# certains étudiants ? \n",
    "print(\"Rien ne définit vraiment ce qu'est un étudiant.\")"
   ],
   "outputs": [
    {
     "output_type": "stream",
     "name": "stdout",
     "text": [
      "Rien ne définit vraiment ce qu'est un étudiant.\n"
     ]
    }
   ],
   "metadata": {}
  },
  {
   "cell_type": "markdown",
   "source": [
    "## Class, Instances"
   ],
   "metadata": {}
  },
  {
   "cell_type": "code",
   "execution_count": 3,
   "source": [
    "# Ecrivez une méthode retournant le nom et l'age sous forme de str. \n",
    "\n",
    "class Student: \n",
    "    \"\"\"Respresent a Student\"\"\"\n",
    "    def __init__(self, prenom, age, groupe): # Constructeur\n",
    "        self.prenom = prenom\n",
    "        self.age = age\n",
    "        self.groupe = groupe\n",
    "    def __str__ (self):\n",
    "        return (f'Prénom: {self.prenom}, Age: {self.age}')        \n",
    "    \n",
    "\n",
    "alice = Student('Alice', 22, 'A')\n",
    "print(alice)\n"
   ],
   "outputs": [
    {
     "output_type": "stream",
     "name": "stdout",
     "text": [
      "Prénom: Alice, Age: 22\n"
     ]
    }
   ],
   "metadata": {}
  },
  {
   "cell_type": "markdown",
   "source": [
    "## Héritage"
   ],
   "metadata": {}
  },
  {
   "cell_type": "code",
   "execution_count": 27,
   "source": [
    "# Nous avons dans l'exemple précédent, préciser que la classe étudiant avait un attribut Diplome, unique. \n",
    "# Comment pourrions-nous faire pour avoir des comportements différents entre des étudiants DUT et LP par exemple ? \n",
    "\n",
    "# En utilisant la déclaration class LpStudent(student): Créez une classe qui hérite de Student, \n",
    "# qui dispose d'une variable de classe valant LP,\n",
    "\n",
    "# Surchargez la méthode description pour mentionner le diplome préparé.\n",
    "\n",
    "# Ajoutez une variable d'instance absence, et une méthode permettant d'ajouter une absence, \n",
    "# l'absence peut par exemple être une date. \n",
    "\n",
    "class LpStudent(Student):\n",
    "    studentType = 'LP'\n",
    "    absence = ''\n",
    "    def __str__(self):\n",
    "        # Je recupère ma méthode de description avec 'super()'\n",
    "        description = super().__str__()\n",
    "        return(f'{description} LpStudent: {self.studentType}')\n",
    "    \n",
    "    #setters\n",
    "    def setAbsence(self, dateAbsence):\n",
    "        self.absence = dateAbsence\n",
    "        \n",
    "    #getters\n",
    "    def getAbsence(self):\n",
    "        return self.absence\n",
    "        \n",
    "toto = LpStudent('Toto', 20, 'A')\n",
    "print(toto)\n",
    "\n",
    "toto.setAbsence('01/05/2020')\n",
    "print(toto.getAbsence())\n"
   ],
   "outputs": [
    {
     "output_type": "stream",
     "name": "stdout",
     "text": [
      "Prénom: Toto, Age: 20 LpStudent: LP\n",
      "01/05/2020\n"
     ]
    }
   ],
   "metadata": {}
  },
  {
   "cell_type": "markdown",
   "source": [
    "## Erreurs "
   ],
   "metadata": {}
  },
  {
   "cell_type": "code",
   "execution_count": 33,
   "source": [
    "# 1. Faites en sortes d'intercepter une erreur ValueError si le paramètre de l'expression int('') n'est pas convertible en entier. \n",
    "# 2. Ajoutez un bloc else qui imprime un message quelconque, que déduisez-vous de son fonctionnement ?\n",
    "\n",
    "try:\n",
    "    x = int('2.7')\n",
    "except ValueError:\n",
    "    print('Votre valeur n\\'est pas convertible en entier')\n",
    "else:\n",
    "    print('ok')\n"
   ],
   "outputs": [
    {
     "output_type": "stream",
     "name": "stdout",
     "text": [
      "ok\n"
     ]
    }
   ],
   "metadata": {}
  },
  {
   "cell_type": "markdown",
   "source": [
    "## Tests simples"
   ],
   "metadata": {}
  },
  {
   "cell_type": "code",
   "execution_count": 14,
   "source": [
    "# Exemple de test inline\n",
    "def multiply_test(a,b):\n",
    "    \"\"\"Computes the arithmetic mean of a list of numbers.\n",
    "    >>> print(multiply_test(5,5))\n",
    "    25\n",
    "    \"\"\"\n",
    "    return a*b\n",
    "\n",
    "import doctest\n",
    "doctest.testmod()\n"
   ],
   "outputs": [
    {
     "output_type": "execute_result",
     "data": {
      "text/plain": [
       "TestResults(failed=0, attempted=1)"
      ]
     },
     "metadata": {},
     "execution_count": 14
    }
   ],
   "metadata": {}
  },
  {
   "cell_type": "markdown",
   "source": [
    "## Quelques fonctions utiles ... "
   ],
   "metadata": {}
  },
  {
   "cell_type": "code",
   "execution_count": 30,
   "source": [
    "# Compression \n",
    "\n",
    "import zlib\n",
    "\n",
    "s = b'Lorem ipsum dolor sit amet, consectetur adipiscing elit. Suspendisse ultrices lacus lacus. Fusce pretium orci id neque rutrum'\n",
    "\n",
    "# Affichez la valeur de len(s) et la valeur de len (zlib.compress(s)) \n",
    "print(len(s))\n",
    "print(len(zlib.compress(s)))\n",
    "\n",
    "# Dates \n",
    "from datetime import date\n",
    "\n",
    "today = date.today()\n",
    "\n",
    "# En suivant la documentation de datetime https://docs.python.org/3/library/datetime.html \n",
    "# Formattez la date sous la forme : '8-09-2020 is a tuesday of september'\n",
    "\n",
    "print(f'{today} is a {today.strftime(\"%A\")} of {today.strftime(\"%B\")}')"
   ],
   "outputs": [
    {
     "output_type": "stream",
     "name": "stdout",
     "text": [
      "125\n",
      "100\n",
      "2021-09-06 is a Monday of September\n"
     ]
    }
   ],
   "metadata": {}
  },
  {
   "cell_type": "code",
   "execution_count": null,
   "source": [],
   "outputs": [],
   "metadata": {}
  }
 ],
 "metadata": {
  "kernelspec": {
   "display_name": "Python 3 (ipykernel)",
   "language": "python",
   "name": "python3"
  },
  "language_info": {
   "codemirror_mode": {
    "name": "ipython",
    "version": 3
   },
   "file_extension": ".py",
   "mimetype": "text/x-python",
   "name": "python",
   "nbconvert_exporter": "python",
   "pygments_lexer": "ipython3",
   "version": "3.9.5"
  }
 },
 "nbformat": 4,
 "nbformat_minor": 4
}